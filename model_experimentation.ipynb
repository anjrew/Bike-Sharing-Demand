{
 "cells": [
  {
   "cell_type": "code",
   "execution_count": 9,
   "metadata": {},
   "outputs": [],
   "source": [
    "import pandas as pd\n",
    "import os\n",
    "from create_model import linear_model\n",
    "from sklearn.preprocessing import MinMaxScaler\n",
    "import feature_engineering_functions as fe\n",
    "\n",
    "\n",
    "df = pd.read_csv(f'./data/train.csv', index_col=0, parse_dates=True)\n",
    "\n",
    "target = 'count'\n",
    "\n",
    "drop_features = ['casual', 'registered']\n",
    "\n",
    "numeric_values = ['season',\t'holiday',\t'workingday',\n",
    "                  'weather',\t'temp',\t'atemp',\t'humidity',\t'windspeed']\n",
    "\n",
    "num_scaler = MinMaxScaler()\n",
    "\n",
    "result =  linear_model(df, numeric_values, drop_features, target, num_scaler)\n",
    "model = result['model']"
   ]
  },
  {
   "cell_type": "code",
   "execution_count": 10,
   "metadata": {},
   "outputs": [
    {
     "data": {
      "text/plain": [
       "{'score': 0.27855267966082753,\n",
       " 'train_score': 0.2562618103160331,\n",
       " 'model': LinearRegression()}"
      ]
     },
     "execution_count": 10,
     "metadata": {},
     "output_type": "execute_result"
    }
   ],
   "source": [
    "result"
   ]
  },
  {
   "cell_type": "code",
   "execution_count": 5,
   "metadata": {},
   "outputs": [
    {
     "name": "stdout",
     "output_type": "stream",
     "text": [
      "The result was : {'score': 0.27855267966082753, 'train_score': 0.2562618103160331, 'model': LinearRegression()}\n"
     ]
    }
   ],
   "source": [
    "df_test = pd.read_csv(f'./data/test.csv', index_col=0)\n",
    "\n",
    "print('The result was :', result)\n",
    "\n",
    "\n",
    "engineered_test_data = fe.scale_numeric_features(df_test, numeric_values, num_scaler, fit=False)"
   ]
  },
  {
   "cell_type": "code",
   "execution_count": 6,
   "metadata": {},
   "outputs": [
    {
     "data": {
      "text/html": [
       "<div>\n",
       "<style scoped>\n",
       "    .dataframe tbody tr th:only-of-type {\n",
       "        vertical-align: middle;\n",
       "    }\n",
       "\n",
       "    .dataframe tbody tr th {\n",
       "        vertical-align: top;\n",
       "    }\n",
       "\n",
       "    .dataframe thead th {\n",
       "        text-align: right;\n",
       "    }\n",
       "</style>\n",
       "<table border=\"1\" class=\"dataframe\">\n",
       "  <thead>\n",
       "    <tr style=\"text-align: right;\">\n",
       "      <th></th>\n",
       "      <th>season</th>\n",
       "      <th>holiday</th>\n",
       "      <th>workingday</th>\n",
       "      <th>weather</th>\n",
       "      <th>temp</th>\n",
       "      <th>atemp</th>\n",
       "      <th>humidity</th>\n",
       "      <th>windspeed</th>\n",
       "    </tr>\n",
       "    <tr>\n",
       "      <th>datetime</th>\n",
       "      <th></th>\n",
       "      <th></th>\n",
       "      <th></th>\n",
       "      <th></th>\n",
       "      <th></th>\n",
       "      <th></th>\n",
       "      <th></th>\n",
       "      <th></th>\n",
       "    </tr>\n",
       "  </thead>\n",
       "  <tbody>\n",
       "    <tr>\n",
       "      <th>2011-01-20 00:00:00</th>\n",
       "      <td>0.0</td>\n",
       "      <td>0.0</td>\n",
       "      <td>1.0</td>\n",
       "      <td>0.0</td>\n",
       "      <td>0.244898</td>\n",
       "      <td>0.237275</td>\n",
       "      <td>0.56</td>\n",
       "      <td>0.456213</td>\n",
       "    </tr>\n",
       "    <tr>\n",
       "      <th>2011-01-20 01:00:00</th>\n",
       "      <td>0.0</td>\n",
       "      <td>0.0</td>\n",
       "      <td>1.0</td>\n",
       "      <td>0.0</td>\n",
       "      <td>0.244898</td>\n",
       "      <td>0.288064</td>\n",
       "      <td>0.56</td>\n",
       "      <td>0.000000</td>\n",
       "    </tr>\n",
       "    <tr>\n",
       "      <th>2011-01-20 02:00:00</th>\n",
       "      <td>0.0</td>\n",
       "      <td>0.0</td>\n",
       "      <td>1.0</td>\n",
       "      <td>0.0</td>\n",
       "      <td>0.244898</td>\n",
       "      <td>0.288064</td>\n",
       "      <td>0.56</td>\n",
       "      <td>0.000000</td>\n",
       "    </tr>\n",
       "    <tr>\n",
       "      <th>2011-01-20 03:00:00</th>\n",
       "      <td>0.0</td>\n",
       "      <td>0.0</td>\n",
       "      <td>1.0</td>\n",
       "      <td>0.0</td>\n",
       "      <td>0.244898</td>\n",
       "      <td>0.271171</td>\n",
       "      <td>0.56</td>\n",
       "      <td>0.193018</td>\n",
       "    </tr>\n",
       "    <tr>\n",
       "      <th>2011-01-20 04:00:00</th>\n",
       "      <td>0.0</td>\n",
       "      <td>0.0</td>\n",
       "      <td>1.0</td>\n",
       "      <td>0.0</td>\n",
       "      <td>0.244898</td>\n",
       "      <td>0.271171</td>\n",
       "      <td>0.56</td>\n",
       "      <td>0.193018</td>\n",
       "    </tr>\n",
       "    <tr>\n",
       "      <th>...</th>\n",
       "      <td>...</td>\n",
       "      <td>...</td>\n",
       "      <td>...</td>\n",
       "      <td>...</td>\n",
       "      <td>...</td>\n",
       "      <td>...</td>\n",
       "      <td>...</td>\n",
       "      <td>...</td>\n",
       "    </tr>\n",
       "    <tr>\n",
       "      <th>2012-12-31 19:00:00</th>\n",
       "      <td>0.0</td>\n",
       "      <td>0.0</td>\n",
       "      <td>1.0</td>\n",
       "      <td>0.5</td>\n",
       "      <td>0.244898</td>\n",
       "      <td>0.271171</td>\n",
       "      <td>0.60</td>\n",
       "      <td>0.193018</td>\n",
       "    </tr>\n",
       "    <tr>\n",
       "      <th>2012-12-31 20:00:00</th>\n",
       "      <td>0.0</td>\n",
       "      <td>0.0</td>\n",
       "      <td>1.0</td>\n",
       "      <td>0.5</td>\n",
       "      <td>0.244898</td>\n",
       "      <td>0.271171</td>\n",
       "      <td>0.60</td>\n",
       "      <td>0.193018</td>\n",
       "    </tr>\n",
       "    <tr>\n",
       "      <th>2012-12-31 21:00:00</th>\n",
       "      <td>0.0</td>\n",
       "      <td>0.0</td>\n",
       "      <td>1.0</td>\n",
       "      <td>0.0</td>\n",
       "      <td>0.244898</td>\n",
       "      <td>0.271171</td>\n",
       "      <td>0.60</td>\n",
       "      <td>0.193018</td>\n",
       "    </tr>\n",
       "    <tr>\n",
       "      <th>2012-12-31 22:00:00</th>\n",
       "      <td>0.0</td>\n",
       "      <td>0.0</td>\n",
       "      <td>1.0</td>\n",
       "      <td>0.0</td>\n",
       "      <td>0.244898</td>\n",
       "      <td>0.288064</td>\n",
       "      <td>0.56</td>\n",
       "      <td>0.157870</td>\n",
       "    </tr>\n",
       "    <tr>\n",
       "      <th>2012-12-31 23:00:00</th>\n",
       "      <td>0.0</td>\n",
       "      <td>0.0</td>\n",
       "      <td>1.0</td>\n",
       "      <td>0.0</td>\n",
       "      <td>0.244898</td>\n",
       "      <td>0.288064</td>\n",
       "      <td>0.65</td>\n",
       "      <td>0.157870</td>\n",
       "    </tr>\n",
       "  </tbody>\n",
       "</table>\n",
       "<p>6493 rows × 8 columns</p>\n",
       "</div>"
      ],
      "text/plain": [
       "                     season  holiday  workingday  weather      temp     atemp  \\\n",
       "datetime                                                                        \n",
       "2011-01-20 00:00:00     0.0      0.0         1.0      0.0  0.244898  0.237275   \n",
       "2011-01-20 01:00:00     0.0      0.0         1.0      0.0  0.244898  0.288064   \n",
       "2011-01-20 02:00:00     0.0      0.0         1.0      0.0  0.244898  0.288064   \n",
       "2011-01-20 03:00:00     0.0      0.0         1.0      0.0  0.244898  0.271171   \n",
       "2011-01-20 04:00:00     0.0      0.0         1.0      0.0  0.244898  0.271171   \n",
       "...                     ...      ...         ...      ...       ...       ...   \n",
       "2012-12-31 19:00:00     0.0      0.0         1.0      0.5  0.244898  0.271171   \n",
       "2012-12-31 20:00:00     0.0      0.0         1.0      0.5  0.244898  0.271171   \n",
       "2012-12-31 21:00:00     0.0      0.0         1.0      0.0  0.244898  0.271171   \n",
       "2012-12-31 22:00:00     0.0      0.0         1.0      0.0  0.244898  0.288064   \n",
       "2012-12-31 23:00:00     0.0      0.0         1.0      0.0  0.244898  0.288064   \n",
       "\n",
       "                     humidity  windspeed  \n",
       "datetime                                  \n",
       "2011-01-20 00:00:00      0.56   0.456213  \n",
       "2011-01-20 01:00:00      0.56   0.000000  \n",
       "2011-01-20 02:00:00      0.56   0.000000  \n",
       "2011-01-20 03:00:00      0.56   0.193018  \n",
       "2011-01-20 04:00:00      0.56   0.193018  \n",
       "...                       ...        ...  \n",
       "2012-12-31 19:00:00      0.60   0.193018  \n",
       "2012-12-31 20:00:00      0.60   0.193018  \n",
       "2012-12-31 21:00:00      0.60   0.193018  \n",
       "2012-12-31 22:00:00      0.56   0.157870  \n",
       "2012-12-31 23:00:00      0.65   0.157870  \n",
       "\n",
       "[6493 rows x 8 columns]"
      ]
     },
     "execution_count": 6,
     "metadata": {},
     "output_type": "execute_result"
    }
   ],
   "source": [
    "engineered_test_data"
   ]
  },
  {
   "cell_type": "code",
   "execution_count": 11,
   "metadata": {},
   "outputs": [
    {
     "data": {
      "text/plain": [
       "array([97.03234921, 91.07363831, 91.07363831, ..., 82.7153927 ,\n",
       "       97.34886887, 70.39156077])"
      ]
     },
     "execution_count": 11,
     "metadata": {},
     "output_type": "execute_result"
    }
   ],
   "source": [
    "model.predict(engineered_test_data)"
   ]
  },
  {
   "cell_type": "code",
   "execution_count": null,
   "metadata": {},
   "outputs": [],
   "source": []
  }
 ],
 "metadata": {
  "kernelspec": {
   "display_name": "Python 3.7.4 ('base')",
   "language": "python",
   "name": "python3"
  },
  "language_info": {
   "codemirror_mode": {
    "name": "ipython",
    "version": 3
   },
   "file_extension": ".py",
   "mimetype": "text/x-python",
   "name": "python",
   "nbconvert_exporter": "python",
   "pygments_lexer": "ipython3",
   "version": "3.7.4"
  },
  "orig_nbformat": 4,
  "vscode": {
   "interpreter": {
    "hash": "e6c8ece07e9164d2a31687d29b107d2624b25817155fdef291395eab91afaa05"
   }
  }
 },
 "nbformat": 4,
 "nbformat_minor": 2
}
